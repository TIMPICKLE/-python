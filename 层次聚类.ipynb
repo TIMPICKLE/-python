{
 "cells": [
  {
   "cell_type": "code",
   "execution_count": 1,
   "metadata": {},
   "outputs": [
    {
     "data": {
      "image/png": "[encoded data removed]",
      "text/plain": [
       "<Figure size 432x288 with 1 Axes>"
      ]
     },
     "metadata": {
      "needs_background": "light"
     },
     "output_type": "display_data"
    }
   ],
   "source": [
    "import numpy as np\n",
    "\n",
    "from scipy.cluster.hierarchy import dendrogram, linkage\n",
    "\n",
    "from scipy.spatial.distance import squareform\n",
    "\n",
    "import matplotlib.pyplot as plt\n",
    "\n",
    "\n",
    "\n",
    "mat = np.array([[0,9,3,6,11],\n",
    "                [9,0,7,5,10],\n",
    "                [3,7,0,9,2],\n",
    "                [6,5,9,0,8],\n",
    "                [11,10,2,8,0]])\n",
    "\n",
    "#将array转化为squareform\n",
    "\n",
    "dists = squareform(mat)\n",
    "\n",
    "\n",
    "\n",
    "#这里的linkage可以为single,complete，average，weighted，centroid等\n",
    "\n",
    "linkage_type = \"complete\"\n",
    "\n",
    "linkage_matrix = linkage(dists, linkage_type)\n",
    "\n",
    "\n",
    "\n",
    "#注:下方A,B,C,D,E分别为矩阵对应的点距离（见上图）\n",
    "\n",
    "dendrogram(linkage_matrix, labels=[\"A\",\"B\",\"C\",\"D\",\"E\"])\n",
    "\n",
    "#图片标题与展示图片\n",
    "\n",
    "plt.title(linkage_type+\"link\")\n",
    "\n",
    "plt.show()\n"
   ]
  },
  {
   "cell_type": "code",
   "execution_count": null,
   "metadata": {},
   "outputs": [],
   "source": []
  }
 ],
 "metadata": {
  "kernelspec": {
   "display_name": "Python 3",
   "language": "python",
   "name": "python3"
  },
  "language_info": {
   "codemirror_mode": {
    "name": "ipython",
    "version": 3
   },
   "file_extension": ".py",
   "mimetype": "text/x-python",
   "name": "python",
   "nbconvert_exporter": "python",
   "pygments_lexer": "ipython3",
   "version": "3.8.3"
  }
 },
 "nbformat": 4,
 "nbformat_minor": 4
}
