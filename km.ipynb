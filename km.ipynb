{
 "cells": [
  {
   "cell_type": "code",
   "execution_count": 1,
   "metadata": {},
   "outputs": [
    {
     "data": {
      "image/png": "[encoded data removed]",
      "text/plain": [
       "<Figure size 432x288 with 1 Axes>"
      ]
     },
     "metadata": {
      "needs_background": "light"
     },
     "output_type": "display_data"
    }
   ],
   "source": [
    "from numpy import *\n",
    "import matplotlib.pyplot as plt\n",
    "from sklearn.cluster import KMeans\n",
    "\n",
    "\n",
    "#dataSet:聚类数据集\n",
    "#k:指定的k个类（大佬）\n",
    "def kmeans(dataSet, k):\n",
    "    #得到数据样本的维度n\n",
    "    sampleNum, col = dataSet.shape\n",
    "     #初始化为一个(k,n)的矩阵=簇\n",
    "    cluster = mat(zeros((sampleNum, 2)))\n",
    "    #生成全零阵\n",
    "    centroids = zeros((k, col))\n",
    "    #选择质心\n",
    "    for i in range(k):\n",
    "        #索引为随机生成的int类型的且在0-sampleNum间的数\n",
    "        index = int(random.uniform(0, sampleNum))\n",
    "        centroids[i, :] = dataSet[index, :]\n",
    "    #设置flag，查看聚类结果是否发生变化\n",
    "    clusterChanged = True\n",
    "     #只要聚类结果一直发生变化，就一直执行聚类算法，直至所有数据点聚类结果不变化\n",
    "    while clusterChanged:\n",
    "        #聚类结果变化布尔类型置为false\n",
    "        clusterChanged = False\n",
    "         #遍历数据集每一个样本向量\n",
    "        for i in range(sampleNum):\n",
    "            #使用sqrt函数（二分法）\n",
    "            minDist = sqrt(sum(power(centroids[0, :] - dataSet[i, :], 2)))\n",
    "            minIndex = 0\n",
    "            #计算点到质心的距离\n",
    "            for j in range(1,k):\n",
    "                distance = sqrt(sum(power(centroids[j, :] - dataSet[i, :], 2)))\n",
    "                #当前最小距离一定时，索引为J\n",
    "                if distance < minDist:\n",
    "                    minDist  = distance\n",
    "                    minIndex = j\n",
    "\n",
    "            # 当前聚类结果中第i个样本的聚类结果发生变化：布尔类型置为true，继续聚类算法\n",
    "            if cluster[i, 0] != minIndex:\n",
    "                clusterChanged = True\n",
    "                #更新聚类结果和平方误差\n",
    "                cluster[i, :] = minIndex, minDist**2\n",
    "        #遍历每一个质心\n",
    "        for j in range(k):\n",
    "            #筛选出属于当前质心类的所有样本\n",
    "            pointsInCluster = dataSet[nonzero(cluster[:, 0].A == j)[0]]\n",
    "            #计算列的均值（使用axis=0：求列的均值）\n",
    "            centroids[j, :] = mean(pointsInCluster, axis = 0)\n",
    "\n",
    "    return centroids, cluster\n",
    "\n",
    "#创建简单数据集以及进行可视化\n",
    "dataSet = [[3,7],[2,9],[6,8],[8,4],[9,5],[1,2],[7,6],[4,3]]\n",
    "dataSet = mat(dataSet)\n",
    "k = 3\n",
    "centroids, cluster = kmeans(dataSet, k)\n",
    "sampleNum, col = dataSet.shape\n",
    "mark = ['or', 'ob', 'og']\n",
    "\n",
    "for i in range(sampleNum):\n",
    "    markIndex = int(cluster[i, 0])\n",
    "    plt.plot(dataSet[i, 0], dataSet[i, 1], mark[markIndex])\n",
    "\n",
    "mark = ['+r', '+b', '+g']\n",
    "for i in range(k):\n",
    "    plt.plot(centroids[i, 0], centroids[i, 1], mark[i], markersize=12)\n",
    "\n",
    "plt.show()"
   ]
  }
 ],
 "metadata": {
  "kernelspec": {
   "display_name": "Python 3",
   "language": "python",
   "name": "python3"
  },
  "language_info": {
   "codemirror_mode": {
    "name": "ipython",
    "version": 3
   },
   "file_extension": ".py",
   "mimetype": "text/x-python",
   "name": "python",
   "nbconvert_exporter": "python",
   "pygments_lexer": "ipython3",
   "version": "3.8.3"
  }
 },
 "nbformat": 4,
 "nbformat_minor": 4
}
