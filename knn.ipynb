{
 "cells": [
  {
   "cell_type": "code",
   "execution_count": 1,
   "metadata": {},
   "outputs": [
    {
     "name": "stdout",
     "output_type": "stream",
     "text": [
      "3\n"
     ]
    }
   ],
   "source": [
    "import numpy as np\n",
    "def classify_two(inX, dataSet, labels, k):\n",
    "    m, n = dataSet.shape   # shape（m, n）m列n个特征\n",
    "    # 计算测试数据到每个点的欧式距离\n",
    "    distances = []\n",
    "    for i in range(m):\n",
    "        sum = 0\n",
    "        for j in range(n):\n",
    "            sum += (inX[j] - dataSet[i][j]) ** 2\n",
    "        distances.append(sum ** 0.5)\n",
    "\n",
    "    sortDist = sorted(distances)\n",
    "\n",
    "    # k 个最近的值所属的类别\n",
    "    classCount = {}\n",
    "    for i in range(k):\n",
    "        voteLabel = labels[ distances.index(sortDist[i])]\n",
    "        classCount[voteLabel] = classCount.get(voteLabel, 0) + 1 # 0:map default\n",
    "    sortedClass = sorted(classCount.items(), key=lambda d:d[1], reverse=True)\n",
    "    return sortedClass[0][0]\n",
    "\n",
    "\n",
    "def createDataSet():\n",
    "    group = np.array([[11, 11], [-9, 5], [-5, -9], [8, 10], [14, -11], [-7, 8], [-2, -7], [4, 12], [-3, 9], [-12, 6]])\n",
    "    labels = ['2', '3', '3', '2','1','3','3','1','3','1']\n",
    "    return group, labels\n",
    "\n",
    "if __name__ == '__main__':\n",
    "    dataSet, labels = createDataSet()\n",
    "    r = classify_two([6, -5], dataSet, labels, 3)\n",
    "    print(r)\n",
    "\n"
   ]
  }
 ],
 "metadata": {
  "kernelspec": {
   "display_name": "Python 3",
   "language": "python",
   "name": "python3"
  },
  "language_info": {
   "codemirror_mode": {
    "name": "ipython",
    "version": 3
   },
   "file_extension": ".py",
   "mimetype": "text/x-python",
   "name": "python",
   "nbconvert_exporter": "python",
   "pygments_lexer": "ipython3",
   "version": "3.8.3"
  }
 },
 "nbformat": 4,
 "nbformat_minor": 4
}
