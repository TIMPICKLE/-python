{
 "cells": [
  {
   "cell_type": "code",
   "execution_count": 1,
   "metadata": {},
   "outputs": [
    {
     "name": "stdout",
     "output_type": "stream",
     "text": [
      "[[-24  -6 -42  36  24  48]]\n",
      "[[-15  35 -25 -20  -5 -45]]\n",
      "cosine similarity: [[-0.33057977]]\n",
      "cosine distance: [1.33057977]\n"
     ]
    }
   ],
   "source": [
    "import numpy as np\n",
    "from sklearn.metrics.pairwise import cosine_similarity, paired_distances\n",
    " \n",
    "x = np.array([[-24, -6, -42,36, 24, 48]])\n",
    "print(x)\n",
    "y = np.array([[-15, 35, -25, -20, -5, -45]])\n",
    "print(y)\n",
    "# 余弦相似度\n",
    "simi = cosine_similarity(x, y)\n",
    "print('cosine similarity:', simi)\n",
    "# 余弦距离 = 1 - 余弦相似度\n",
    "dist = paired_distances(x, y, metric='cosine')\n",
    "print('cosine distance:', dist)\n"
   ]
  }
 ],
 "metadata": {
  "kernelspec": {
   "display_name": "Python 3",
   "language": "python",
   "name": "python3"
  },
  "language_info": {
   "codemirror_mode": {
    "name": "ipython",
    "version": 3
   },
   "file_extension": ".py",
   "mimetype": "text/x-python",
   "name": "python",
   "nbconvert_exporter": "python",
   "pygments_lexer": "ipython3",
   "version": "3.8.3"
  }
 },
 "nbformat": 4,
 "nbformat_minor": 4
}
